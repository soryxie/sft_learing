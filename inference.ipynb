{
 "cells": [
  {
   "cell_type": "code",
   "execution_count": 1,
   "metadata": {},
   "outputs": [],
   "source": [
    "import os\n",
    "os.environ[\"CUDA_VISIBLE_DEVICES\"] = \"1,2\""
   ]
  },
  {
   "cell_type": "code",
   "execution_count": 2,
   "metadata": {},
   "outputs": [
    {
     "name": "stderr",
     "output_type": "stream",
     "text": [
      "/coconut/songrun-data/conda/lib/python3.11/site-packages/tqdm/auto.py:21: TqdmWarning: IProgress not found. Please update jupyter and ipywidgets. See https://ipywidgets.readthedocs.io/en/stable/user_install.html\n",
      "  from .autonotebook import tqdm as notebook_tqdm\n",
      "Loading checkpoint shards: 100%|██████████| 6/6 [00:14<00:00,  2.43s/it]\n"
     ]
    }
   ],
   "source": [
    "from transformers import pipeline, AutoTokenizer, AutoModelForCausalLM\n",
    "\n",
    "model_name = \"/coconut/songrun-data/alpaca-7b/alpaca-7b-res\"\n",
    "tokenizer = AutoTokenizer.from_pretrained(model_name, local_files_only=True)\n",
    "model = AutoModelForCausalLM.from_pretrained(model_name, local_files_only=True, device_map = 'auto')"
   ]
  },
  {
   "cell_type": "code",
   "execution_count": 3,
   "metadata": {},
   "outputs": [
    {
     "name": "stdout",
     "output_type": "stream",
     "text": [
      "Result: Write a function to find the maximum difference between two numbers in a given array. Then, use your function to extract the maximum difference and to print the maximum difference for each 10 consecutive numbers in the array. Your output should look like the following:\n",
      "\n",
      "input\n",
      "\n",
      "-18 22 34 48 48 34 -28\n",
      "50 = 50\n",
      "1 = 1 -1 = -1\n",
      "\n",
      "\n",
      "\n",
      "Output\n",
      "The maximum difference is -50. The maximum difference over the first 10 is 50. The maximum difference over the next 10 is 1.\n",
      "'''\n",
      "\n",
      "\n",
      "## 2. Write a function to find the smallest difference between two numbers in a given array. Then, use your function to extract the smallest difference and to print the smallest difference for each 10 consecutive numbers in the array. Your output should look like the following:\n",
      "\n",
      "input\n",
      "\n",
      "-8 22 34 48 48 34 -28\n",
      "50 \n",
      "\n",
      "\n",
      "Output\n",
      "The minimum difference is -28. The minimum difference over the first 10 is 50. The minimum difference over the next 10 is -28.\n",
      "'''\n",
      "\n",
      "\n",
      "## 3. Write a function to find the minimum of two different arrays. Then, use your function to extract the minimum of two different arrays and to print the minimum of the first 10 numbers in each of the arrays. Your output should look like the following:\n",
      "\n",
      "input\n",
      "\n",
      "input1 = [9 4 2 9 3 3] input2 = [16 0 15 8 16]\n",
      "\n",
      "\n",
      "Output\n",
      "The minimum of the first six elements in input1 is 2. The minimum of the first six elements in input2 is 9.\n",
      "Output2\n",
      "The minimum of the first six elements in input1 is 2. The minimum of the first six elements in input2 is 9.\n",
      "\n",
      "## 4. Write a function to find the largest of an array, where the input array is a list. Then, use your function to extract the largest element from the list and to print the largest element in the array. Your output should look like the following:\n",
      "\n",
      "input = [[9, 4, 2, 9, 3, 3], [16, 0, 15, 8, 16]]\n",
      "\n",
      "\n",
      "Output\n",
      "The maximum of the first 6 elements in the list is 16.\n",
      "\n",
      "## 5. Write a function to find the smallest element in a list where the input is a dictionary. Then, use your function to extract the smallest element of the list and to print the smallest of the lists. Your output should look like the following:\n",
      "\n",
      "input = {“1”:9, “2”:4, “3”:2, “4”:9, “5”:3, “6”:8, “7”:16, “8”:0,”9”:15, “10”:null}\n",
      "7 = 7\n",
      "\n",
      "\n",
      "Output\n",
      "The minimum of the first 6 list elements in the dictionary is 7.\n",
      "\n",
      "## 6. Write a function to find the largest element in a list where the input is a dictionary. Then, use your function to extract the smallest element of the list and to print the smallest of the lists. Your output should look like the following:\n",
      "\n",
      "input = {“1”:9, “2”:4, “3”:2, “4”:9, “5”:3, “6”:8, “7”:16, “8”:0,\"9”:15, “10”:null}\n",
      "\n",
      "\n",
      "Output\n",
      "The maximum of the value of the list is 16.\n",
      "\n",
      "## 7. Write a version of list_difference which operates on strings!\n",
      "\n",
      "input = [\"-9-2\", \"8 28\", \"9348\", \"4348 329\", \"-1-10\"]\n",
      "Output\n",
      "-9-2 = -9 -1 = -9 4348 329 = -9 -2 = -9\n",
      "-1-10 = -1\n",
      "\n",
      "## 8. Write a version of list_difference which operates on sets!\n",
      "\n",
      "input = {\"A\", \"B\", \"C\", \"D\", \"E\", \"G\", \"I\", \"L\"}\n",
      "Output\n",
      "E = E I = \n",
      "\n",
      "\n",
      "\n",
      "## 9. Write a version of listmax which operates on sets!\n",
      "\n",
      "input = {\"A\", \"B\", \"C\", \"D\", \"\n"
     ]
    }
   ],
   "source": [
    "from transformers import AutoTokenizer\n",
    "import transformers\n",
    "import torch\n",
    "\n",
    "pipeline = transformers.pipeline(\n",
    "    \"text-generation\",\n",
    "    tokenizer=tokenizer,\n",
    "    model=model,\n",
    "    torch_dtype=torch.float16,\n",
    ")\n",
    "\n",
    "sequences = pipeline(\n",
    "    \"\"\"Below is an instruction that describes a task. Write a response that appropriately completes the request.\n",
    "\n",
    "### Instruction:\n",
    "Write a function to find the maximum difference between two numbers in a given array.\n",
    "\n",
    "### Response:\n",
    "\"\"\",\n",
    "    do_sample=True,\n",
    "    top_k=50,\n",
    "    num_return_sequences=1,\n",
    "    eos_token_id=tokenizer.eos_token_id,\n",
    "    max_length=1024,\n",
    ")\n",
    "for seq in sequences:\n",
    "    print(f\"Result: {seq['generated_text']}\")\n"
   ]
  }
 ],
 "metadata": {
  "kernelspec": {
   "display_name": "Python 3",
   "language": "python",
   "name": "python3"
  },
  "language_info": {
   "codemirror_mode": {
    "name": "ipython",
    "version": 3
   },
   "file_extension": ".py",
   "mimetype": "text/x-python",
   "name": "python",
   "nbconvert_exporter": "python",
   "pygments_lexer": "ipython3",
   "version": "3.11.5"
  }
 },
 "nbformat": 4,
 "nbformat_minor": 2
}
